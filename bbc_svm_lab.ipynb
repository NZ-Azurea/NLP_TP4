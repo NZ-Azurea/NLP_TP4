{
 "cells": [
  {
   "cell_type": "markdown",
   "id": "2b726c34",
   "metadata": {},
   "source": [
    "# BBC News Category Classification with Linear SVM"
   ]
  },
  {
   "cell_type": "markdown",
   "id": "d4be678b",
   "metadata": {},
   "source": [
    "This notebook reproduces the SVM-based text classification workflow built for the BBC news dataset.\n",
    "We proceed step by step, explaining every helper function and showing the intermediate results, including simple visualizations built with Matplotlib."
   ]
  },
  {
   "cell_type": "markdown",
   "id": "c38f4c26",
   "metadata": {},
   "source": [
    "## Roadmap\n",
    "1. Load required libraries and configure the environment.\n",
    "2. Ensure NLTK corpora are available for tokenization and lemmatization.\n",
    "3. Inspect the raw dataset and explore class distribution and document lengths.\n",
    "4. Build a reusable text preprocessing pipeline with a custom tokenizer.\n",
    "5. Train and tune a Linear SVM classifier using TF-IDF features.\n",
    "6. Evaluate the model with metrics, confusion matrix, and most informative terms."
   ]
  },
  {
   "cell_type": "markdown",
   "id": "9b025784",
   "metadata": {},
   "source": [
    "## 1. Imports and configuration"
   ]
  },
  {
   "cell_type": "code",
   "execution_count": 1,
   "id": "42d7fc3a",
   "metadata": {},
   "outputs": [],
   "source": [
    "from __future__ import annotations\n",
    "\n",
    "import csv\n",
    "from collections import Counter\n",
    "from pathlib import Path\n",
    "from typing import Dict, List, Sequence, Tuple\n",
    "\n",
    "import matplotlib.pyplot as plt\n",
    "import seaborn as sns\n",
    "import numpy as np\n",
    "import nltk\n",
    "from nltk.corpus import stopwords\n",
    "from nltk.stem import WordNetLemmatizer\n",
    "from sklearn.feature_extraction.text import TfidfVectorizer\n",
    "from sklearn.metrics import (\n",
    "    ConfusionMatrixDisplay,\n",
    "    accuracy_score,\n",
    "    classification_report,\n",
    "    confusion_matrix,\n",
    ")\n",
    "from sklearn.model_selection import GridSearchCV, train_test_split\n",
    "from sklearn.pipeline import Pipeline\n",
    "from sklearn.svm import LinearSVC\n",
    "\n",
    "plt.style.use(\"ggplot\")\n",
    "plt.rcParams[\"figure.figsize\"] = (10, 6)\n",
    "DATA_PATH = Path(\"bbc-news-data.csv\")\n"
   ]
  },
  {
   "cell_type": "markdown",
   "id": "99a39076",
   "metadata": {},
   "source": [
    "### Why these imports?\n",
    "* `csv`, `Path`, and typing helpers let us load the TSV dataset safely.\n",
    "* NLTK provides stop word lists, tokenization, and lemmatization for linguistic preprocessing.\n",
    "* Scikit-learn supplies the TF-IDF vectorizer, SVM classifier, and evaluation utilities.\n",
    "* Matplotlib gives us quick visualizations for dataset exploration and evaluation."
   ]
  },
  {
   "cell_type": "markdown",
   "id": "0d4c9f8d",
   "metadata": {},
   "source": [
    "## 2. Helper to download NLTK resources"
   ]
  },
  {
   "cell_type": "markdown",
   "id": "49299bae",
   "metadata": {},
   "source": [
    "The tokenizer we will build relies on three NLTK corpora:\n",
    "* `stopwords` to filter out common words.\n",
    "* `wordnet` for lemmatization (reducing words to their base form).\n",
    "* `punkt` for robust sentence and word tokenization.\n",
    "\n",
    "The function below checks for each resource and downloads it on demand."
   ]
  },
  {
   "cell_type": "code",
   "execution_count": 2,
   "id": "d78de377",
   "metadata": {},
   "outputs": [],
   "source": [
    "\n",
    "def ensure_nltk_resources() -> None:\n",
    "    \"\"\"Download the NLTK corpora required by the tokenizer if they are missing.\"\"\"\n",
    "    resources = {\n",
    "        \"corpora/stopwords\": \"stopwords\",\n",
    "        \"corpora/wordnet\": \"wordnet\",\n",
    "        \"tokenizers/punkt\": \"punkt\",\n",
    "    }\n",
    "    for resource_path, resource_name in resources.items():\n",
    "        try:\n",
    "            nltk.data.find(resource_path)\n",
    "        except LookupError:\n",
    "            nltk.download(resource_name)\n"
   ]
  },
  {
   "cell_type": "markdown",
   "id": "145f21ab",
   "metadata": {},
   "source": [
    "Run the helper once so later steps can tokenize text without interruptions."
   ]
  },
  {
   "cell_type": "code",
   "execution_count": 3,
   "id": "512d04cd",
   "metadata": {},
   "outputs": [
    {
     "name": "stderr",
     "output_type": "stream",
     "text": [
      "[nltk_data] Downloading package wordnet to\n",
      "[nltk_data]     C:\\Users\\Azuréa\\AppData\\Roaming\\nltk_data...\n",
      "[nltk_data]   Package wordnet is already up-to-date!\n"
     ]
    }
   ],
   "source": [
    "ensure_nltk_resources()"
   ]
  },
  {
   "cell_type": "markdown",
   "id": "bb7854d4",
   "metadata": {},
   "source": [
    "## 3. Loading and inspecting the dataset"
   ]
  },
  {
   "cell_type": "markdown",
   "id": "c78c7e7d",
   "metadata": {},
   "source": [
    "The BBC dataset ships as a tab-separated file with four columns: category, filename, title, and content.\n",
    "The loader below preserves only the title and article body, concatenating them into a single text field."
   ]
  },
  {
   "cell_type": "code",
   "execution_count": 4,
   "id": "966a6052",
   "metadata": {},
   "outputs": [],
   "source": [
    "\n",
    "def load_bbc_dataset(path: Path) -> Tuple[List[str], List[str]]:\n",
    "    \"\"\"Read the TSV file and return two parallel lists: texts and their category labels.\"\"\"\n",
    "    texts: List[str] = []\n",
    "    labels: List[str] = []\n",
    "    with path.open(encoding=\"utf-8\") as handle:\n",
    "        reader = csv.DictReader(handle, delimiter=\"\t\")\n",
    "        for row in reader:\n",
    "            document = \" \".join([\n",
    "                row.get(\"title\", \"\").strip(),\n",
    "                row.get(\"content\", \"\").strip(),\n",
    "            ]).strip()\n",
    "            if not document:\n",
    "                continue\n",
    "            texts.append(document)\n",
    "            labels.append(row[\"category\"])\n",
    "    if not texts:\n",
    "        raise ValueError(f\"No documents found in {path}\")\n",
    "    return texts, labels\n"
   ]
  },
  {
   "cell_type": "code",
   "execution_count": 5,
   "id": "52f25e2c",
   "metadata": {},
   "outputs": [
    {
     "name": "stdout",
     "output_type": "stream",
     "text": [
      "Removed 98 duplicate documents to avoid leakage.\n",
      "Corpus size after deduplication: 2127 documents across 5 categories.\n"
     ]
    },
    {
     "data": {
      "text/plain": [
       "(2127, ['business', 'entertainment', 'politics', 'sport', 'tech'])"
      ]
     },
     "execution_count": 5,
     "metadata": {},
     "output_type": "execute_result"
    }
   ],
   "source": [
    "texts, labels = load_bbc_dataset(DATA_PATH)\n",
    "\n",
    "label_lookup: Dict[str, str] = {}\n",
    "for text, label in zip(texts, labels):\n",
    "    if text in label_lookup and label_lookup[text] != label:\n",
    "        raise ValueError(\"Detected the same document with conflicting labels.\")\n",
    "    label_lookup[text] = label\n",
    "\n",
    "num_documents_raw = len(texts)\n",
    "unique_pairs = list(dict.fromkeys(zip(texts, labels)))\n",
    "if len(unique_pairs) != num_documents_raw:\n",
    "    print(f\"Removed {num_documents_raw - len(unique_pairs)} duplicate documents to avoid leakage.\")\n",
    "texts, labels = zip(*unique_pairs)\n",
    "texts, labels = list(texts), list(labels)\n",
    "\n",
    "num_documents = len(texts)\n",
    "unique_labels = sorted(set(labels))\n",
    "print(f\"Corpus size after deduplication: {num_documents} documents across {len(unique_labels)} categories.\")\n",
    "num_documents, unique_labels\n"
   ]
  },
  {
   "cell_type": "markdown",
   "id": "55d6b081",
   "metadata": {},
   "source": [
    "Display the first three entries to understand how raw texts look."
   ]
  },
  {
   "cell_type": "code",
   "execution_count": 6,
   "id": "48e88080",
   "metadata": {},
   "outputs": [
    {
     "name": "stdout",
     "output_type": "stream",
     "text": [
      "Document #1 | category=business\n",
      "Ad sales boost Time Warner profit Quarterly profits at US media giant TimeWarner jumped 76% to $1.13bn (£600m) for the three months to December, from $639m year-earlier. The firm, which is now one of the biggest investors in Google, benefited from sales of high-speed internet connections and higher advert sales. TimeWarner said fourth quarter sales rose 2% to $11.1bn from...\n",
      "--------------------------------------------------------------------------------\n",
      "Document #2 | category=business\n",
      "Dollar gains on Greenspan speech The dollar has hit its highest level against the euro in almost three months after the Federal Reserve head said the US trade deficit is set to stabilise. And Alan Greenspan highlighted the US government's willingness to curb spending and rising household savings as factors which may help to reduce it. In late trading in...\n",
      "--------------------------------------------------------------------------------\n",
      "Document #3 | category=business\n",
      "Yukos unit buyer faces loan claim The owners of embattled Russian oil giant Yukos are to ask the buyer of its former production unit to pay back a $900m (£479m) loan. State-owned Rosneft bought the Yugansk unit for $9.3bn in a sale forced by Russia to part settle a $27.5bn tax claim against Yukos. Yukos' owner Menatep Group says it...\n",
      "--------------------------------------------------------------------------------\n"
     ]
    }
   ],
   "source": [
    "\n",
    "for idx in range(3):\n",
    "    print(f\"Document #{idx + 1} | category={labels[idx]}\")\n",
    "    snippet = \" \".join(texts[idx].split()[:60])\n",
    "    print(snippet + (\"...\" if len(texts[idx].split()) > 60 else \"\"))\n",
    "    print(\"-\" * 80)\n"
   ]
  },
  {
   "cell_type": "markdown",
   "id": "5ca190be",
   "metadata": {},
   "source": [
    "### Class distribution"
   ]
  },
  {
   "cell_type": "code",
   "execution_count": 7,
   "id": "18a75300",
   "metadata": {},
   "outputs": [
    {
     "name": "stdout",
     "output_type": "stream",
     "text": [
      "     business: 503\n",
      "entertainment: 369\n",
      "     politics: 403\n",
      "        sport: 505\n",
      "         tech: 347\n"
     ]
    }
   ],
   "source": [
    "\n",
    "label_counts = Counter(labels)\n",
    "for name, count in label_counts.items():\n",
    "    print(f\"{name:>13}: {count}\")\n"
   ]
  },
  {
   "cell_type": "code",
   "execution_count": 8,
   "id": "2aef53b3",
   "metadata": {},
   "outputs": [
    {
     "data": {
      "image/png": "[encoded data removed]",
      "text/plain": [
       "<Figure size 1000x600 with 1 Axes>"
      ]
     },
     "metadata": {},
     "output_type": "display_data"
    }
   ],
   "source": [
    "\n",
    "fig, ax = plt.subplots()\n",
    "ax.bar(label_counts.keys(), label_counts.values(), color=\"#4472c4\")\n",
    "ax.set_xlabel(\"Category\")\n",
    "ax.set_ylabel(\"Number of articles\")\n",
    "ax.set_title(\"BBC dataset class distribution\")\n",
    "plt.xticks(rotation=45)\n",
    "plt.tight_layout()\n",
    "plt.show()\n"
   ]
  },
  {
   "cell_type": "markdown",
   "id": "2c31790e",
   "metadata": {},
   "source": [
    "### Document length overview"
   ]
  },
  {
   "cell_type": "code",
   "execution_count": 9,
   "id": "123b94be",
   "metadata": {},
   "outputs": [
    {
     "name": "stdout",
     "output_type": "stream",
     "text": [
      "Average length: 384.1 words\n",
      "Median length: 331.0 words\n",
      "Shortest article: 89 words\n",
      "Longest article: 4432 words\n"
     ]
    }
   ],
   "source": [
    "\n",
    "document_lengths = [len(text.split()) for text in texts]\n",
    "print(f\"Average length: {np.mean(document_lengths):.1f} words\")\n",
    "print(f\"Median length: {np.median(document_lengths):.1f} words\")\n",
    "print(f\"Shortest article: {np.min(document_lengths)} words\")\n",
    "print(f\"Longest article: {np.max(document_lengths)} words\")\n"
   ]
  },
  {
   "cell_type": "code",
   "execution_count": 10,
   "id": "dfe1583a",
   "metadata": {},
   "outputs": [
    {
     "data": {
      "image/png": "[encoded data removed]",
      "text/plain": [
       "<Figure size 1000x600 with 1 Axes>"
      ]
     },
     "metadata": {},
     "output_type": "display_data"
    }
   ],
   "source": [
    "\n",
    "fig, ax = plt.subplots()\n",
    "ax.hist(document_lengths, bins=30, color=\"#70ad47\", edgecolor=\"black\")\n",
    "ax.set_xlabel(\"Document length (words)\")\n",
    "ax.set_ylabel(\"Frequency\")\n",
    "ax.set_title(\"Distribution of article lengths\")\n",
    "plt.tight_layout()\n",
    "plt.show()\n"
   ]
  },
  {
   "cell_type": "markdown",
   "id": "be20500b",
   "metadata": {},
   "source": [
    "## 4. Custom tokenizer"
   ]
  },
  {
   "cell_type": "markdown",
   "id": "3085f8f5",
   "metadata": {},
   "source": [
    "The Linear SVM will operate on TF-IDF features built from tokens returned by the class below.\n",
    "* It converts text to lowercase tokens using NLTK's `word_tokenize`.\n",
    "* It removes tokens containing non-alphabetical characters and filters stop words.\n",
    "* It lemmatizes each token to keep morphological variants together."
   ]
  },
  {
   "cell_type": "code",
   "execution_count": 11,
   "id": "c36d6184",
   "metadata": {},
   "outputs": [],
   "source": [
    "\n",
    "class LemmaTokenizer:\n",
    "    \"\"\"Callable tokenizer that lemmatizes tokens and removes noise.\"\"\"\n",
    "\n",
    "    def __init__(self) -> None:\n",
    "        self.lemmatizer = WordNetLemmatizer()\n",
    "        self.stop_words = set(stopwords.words(\"english\"))\n",
    "\n",
    "    def __call__(self, text: str) -> List[str]:\n",
    "        tokens = nltk.word_tokenize(text)\n",
    "        cleaned_tokens: List[str] = []\n",
    "        for token in tokens:\n",
    "            token_lower = token.lower()\n",
    "            if not token_lower.isalpha():\n",
    "                continue\n",
    "            if token_lower in self.stop_words:\n",
    "                continue\n",
    "            cleaned_tokens.append(self.lemmatizer.lemmatize(token_lower))\n",
    "        return cleaned_tokens\n"
   ]
  },
  {
   "cell_type": "code",
   "execution_count": 12,
   "id": "d704f3af",
   "metadata": {},
   "outputs": [
    {
     "data": {
      "text/plain": [
       "['ad',\n",
       " 'sale',\n",
       " 'boost',\n",
       " 'time',\n",
       " 'warner',\n",
       " 'profit',\n",
       " 'quarterly',\n",
       " 'profit',\n",
       " 'u',\n",
       " 'medium',\n",
       " 'giant',\n",
       " 'timewarner',\n",
       " 'jumped',\n",
       " 'three',\n",
       " 'month',\n",
       " 'december',\n",
       " 'firm',\n",
       " 'one',\n",
       " 'biggest',\n",
       " 'investor']"
      ]
     },
     "execution_count": 12,
     "metadata": {},
     "output_type": "execute_result"
    }
   ],
   "source": [
    "\n",
    "tokenizer = LemmaTokenizer()\n",
    "sample_tokens = tokenizer(texts[0])[:20]\n",
    "sample_tokens\n"
   ]
  },
  {
   "cell_type": "markdown",
   "id": "59f28021",
   "metadata": {},
   "source": [
    "## 5. Building the TF-IDF + Linear SVM pipeline"
   ]
  },
  {
   "cell_type": "markdown",
   "id": "59236889",
   "metadata": {},
   "source": [
    "We wrap preprocessing and the classifier into a single scikit-learn pipeline.\n",
    "The helper below constructs the TF-IDF vectorizer with our custom tokenizer and a LinearSVC classifier."
   ]
  },
  {
   "cell_type": "code",
   "execution_count": 13,
   "id": "46d23bdf",
   "metadata": {},
   "outputs": [],
   "source": [
    "\n",
    "def build_pipeline() -> Pipeline:\n",
    "    \"\"\"Create a reusable pipeline that vectorizes text and fits a Linear SVM.\"\"\"\n",
    "    vectorizer = TfidfVectorizer(\n",
    "        tokenizer=LemmaTokenizer(),\n",
    "        token_pattern=None,\n",
    "        lowercase=False,\n",
    "        ngram_range=(1, 2),\n",
    "        min_df=2,\n",
    "    )\n",
    "    classifier = LinearSVC()\n",
    "    return Pipeline([(\"tfidf\", vectorizer), (\"clf\", classifier)])\n"
   ]
  },
  {
   "cell_type": "markdown",
   "id": "acad1988",
   "metadata": {},
   "source": [
    "## 6. Training, tuning, and evaluation helpers"
   ]
  },
  {
   "cell_type": "markdown",
   "id": "633171f4",
   "metadata": {},
   "source": [
    "The next function performs a stratified train/test split and optionally tunes hyperparameters with grid search.\n",
    "It returns the fitted model alongside the hold-out data and predictions so we can run analyses afterwards."
   ]
  },
  {
   "cell_type": "code",
   "execution_count": 14,
   "id": "a30914dd",
   "metadata": {},
   "outputs": [],
   "source": [
    "def train_and_evaluate(\n",
    "    texts: Sequence[str],\n",
    "    labels: Sequence[str],\n",
    "    *,\n",
    "    test_size: float = 0.2,\n",
    "    random_state: int = 42,\n",
    "    use_grid_search: bool = True,\n",
    ") -> Tuple[Pipeline, List[str], List[str], List[str], List[str], List[str]]:\n",
    "    \"\"\"Train the Linear SVM pipeline and evaluate it on a hold-out split.\"\"\"\n",
    "    X_train, X_test, y_train, y_test = train_test_split(\n",
    "        list(texts),\n",
    "        list(labels),\n",
    "        test_size=test_size,\n",
    "        stratify=labels,\n",
    "        random_state=random_state,\n",
    "    )\n",
    "\n",
    "    pipeline = build_pipeline()\n",
    "\n",
    "    if use_grid_search:\n",
    "        param_grid = {\n",
    "            \"tfidf__ngram_range\": [(1, 1), (1, 2)],\n",
    "            \"clf__C\": [0.1, 1.0, 3.0, 10.0],\n",
    "        }\n",
    "        search = GridSearchCV(\n",
    "            pipeline,\n",
    "            param_grid=param_grid,\n",
    "            n_jobs=1,\n",
    "            cv=5,\n",
    "            verbose=1,\n",
    "        )\n",
    "        search.fit(X_train, y_train)\n",
    "        print(\"Best parameters:\", search.best_params_)\n",
    "        print(f\"Cross-validated accuracy: {search.best_score_:.4f}\")\n",
    "        pipeline = search.best_estimator_\n",
    "    else:\n",
    "        pipeline.fit(X_train, y_train)\n",
    "\n",
    "    y_pred = pipeline.predict(X_test)\n",
    "\n",
    "    return pipeline, X_train, y_train, X_test, y_test, list(y_pred)\n"
   ]
  },
  {
   "cell_type": "markdown",
   "id": "1bb88b97",
   "metadata": {},
   "source": [
    "We also define a helper to pull out the most influential TF-IDF features per class.\n",
    "Large positive weights in the Linear SVM correspond to tokens that support a class decision."
   ]
  },
  {
   "cell_type": "code",
   "execution_count": 15,
   "id": "33566fd2",
   "metadata": {},
   "outputs": [],
   "source": [
    "\n",
    "def get_top_features(model: Pipeline, top_n: int = 15) -> Dict[str, List[Tuple[str, float]]]:\n",
    "    \"\"\"Return the top-N features per class, sorted by their SVM weights.\"\"\"\n",
    "    vectorizer: TfidfVectorizer = model.named_steps[\"tfidf\"]\n",
    "    classifier: LinearSVC = model.named_steps[\"clf\"]\n",
    "    feature_names = vectorizer.get_feature_names_out()\n",
    "\n",
    "    top_features: Dict[str, List[Tuple[str, float]]] = {}\n",
    "    for class_index, class_label in enumerate(classifier.classes_):\n",
    "        coefs = classifier.coef_[class_index]\n",
    "        top_indices = np.argsort(coefs)[-top_n:]\n",
    "        ranked = [(feature_names[i], float(coefs[i])) for i in reversed(top_indices)]\n",
    "        top_features[class_label] = ranked\n",
    "    return top_features\n"
   ]
  },
  {
   "cell_type": "markdown",
   "id": "8d6f11c6",
   "metadata": {},
   "source": [
    "### Train the model"
   ]
  },
  {
   "cell_type": "code",
   "execution_count": 16,
   "id": "3929fdb7",
   "metadata": {},
   "outputs": [
    {
     "name": "stdout",
     "output_type": "stream",
     "text": [
      "Fitting 5 folds for each of 8 candidates, totalling 40 fits\n",
      "Best parameters: {'clf__C': 1.0, 'tfidf__ngram_range': (1, 2)}\n",
      "Cross-validated accuracy: 0.9777\n"
     ]
    }
   ],
   "source": [
    "model, X_train, y_train, X_test, y_test, y_pred = train_and_evaluate(texts, labels)\n"
   ]
  },
  {
   "cell_type": "markdown",
   "id": "9460d021",
   "metadata": {},
   "source": [
    "### Data leakage checks\n"
   ]
  },
  {
   "cell_type": "code",
   "execution_count": 17,
   "id": "74ec4f15",
   "metadata": {},
   "outputs": [
    {
     "name": "stdout",
     "output_type": "stream",
     "text": [
      "Train split size: 1701\n",
      "Test split size : 426\n",
      "Overlap between splits: 0 documents\n",
      "No overlap detected between train and test splits.\n"
     ]
    }
   ],
   "source": [
    "train_set = set(X_train)\n",
    "test_set = set(X_test)\n",
    "overlap = train_set.intersection(test_set)\n",
    "\n",
    "print(f\"Train split size: {len(X_train)}\")\n",
    "print(f\"Test split size : {len(X_test)}\")\n",
    "print(f\"Overlap between splits: {len(overlap)} documents\")\n",
    "\n",
    "if overlap:\n",
    "    print(\"Warning: overlapping documents detected (showing up to 3 snippets).\")\n",
    "    for text in list(overlap)[:3]:\n",
    "        snippet = \" \".join(text.split()[:30])\n",
    "        print(f\"- {snippet}...\")\n",
    "else:\n",
    "    print(\"No overlap detected between train and test splits.\")\n"
   ]
  },
  {
   "cell_type": "markdown",
   "id": "5fec38ed",
   "metadata": {},
   "source": [
    "### Classification metrics"
   ]
  },
  {
   "cell_type": "code",
   "execution_count": 18,
   "id": "ea21d1c2",
   "metadata": {},
   "outputs": [
    {
     "name": "stdout",
     "output_type": "stream",
     "text": [
      "Test accuracy: 0.9859\n",
      "\n",
      "Classification report:\n",
      "\n",
      "               precision    recall  f1-score   support\n",
      "\n",
      "     business       1.00      0.97      0.98       101\n",
      "entertainment       0.97      0.99      0.98        74\n",
      "     politics       0.99      0.99      0.99        81\n",
      "        sport       1.00      1.00      1.00       101\n",
      "         tech       0.96      0.99      0.97        69\n",
      "\n",
      "     accuracy                           0.99       426\n",
      "    macro avg       0.98      0.99      0.98       426\n",
      " weighted avg       0.99      0.99      0.99       426\n",
      "\n"
     ]
    }
   ],
   "source": [
    "accuracy = accuracy_score(y_test, y_pred)\n",
    "print(f\"Test accuracy: {accuracy:.4f}\")\n",
    "print(\"\\nClassification report:\\n\")\n",
    "print(classification_report(y_test, y_pred))\n"
   ]
  },
  {
   "cell_type": "markdown",
   "id": "8848e707",
   "metadata": {},
   "source": [
    "### Confusion matrix"
   ]
  },
  {
   "cell_type": "code",
   "execution_count": 19,
   "id": "eb8ee053",
   "metadata": {},
   "outputs": [
    {
     "data": {
      "image/png": "[encoded data removed]",
      "text/plain": [
       "<Figure size 1400x500 with 3 Axes>"
      ]
     },
     "metadata": {},
     "output_type": "display_data"
    }
   ],
   "source": [
    "cm = confusion_matrix(y_test, y_pred, labels=model.classes_)\n",
    "cm_norm = cm.astype(float)\n",
    "row_sums = cm_norm.sum(axis=1, keepdims=True)\n",
    "cm_norm = np.divide(cm_norm, row_sums, out=np.zeros_like(cm_norm), where=row_sums != 0)\n",
    "cm_percent = cm_norm * 100\n",
    "\n",
    "fig, axes = plt.subplots(1, 2, figsize=(14, 5))\n",
    "\n",
    "sns.heatmap(\n",
    "    cm,\n",
    "    annot=True,\n",
    "    fmt='d',\n",
    "    cmap='Blues',\n",
    "    cbar=False,\n",
    "    square=True,\n",
    "    linewidths=0.5,\n",
    "    xticklabels=model.classes_,\n",
    "    yticklabels=model.classes_,\n",
    "    ax=axes[0],\n",
    ")\n",
    "axes[0].set_title('Confusion matrix (counts)')\n",
    "axes[0].set_xlabel('Predicted label')\n",
    "axes[0].set_ylabel('True label')\n",
    "\n",
    "heatmap_norm = sns.heatmap(\n",
    "    cm_percent,\n",
    "    annot=True,\n",
    "    fmt='.1f',\n",
    "    cmap='Oranges',\n",
    "    cbar=True,\n",
    "    square=True,\n",
    "    linewidths=0.5,\n",
    "    xticklabels=model.classes_,\n",
    "    yticklabels=model.classes_,\n",
    "    ax=axes[1],\n",
    "    cbar_kws={'label': '% of true class'},\n",
    ")\n",
    "axes[1].set_title('Confusion matrix (row %)')\n",
    "axes[1].set_xlabel('Predicted label')\n",
    "axes[1].set_ylabel('True label')\n",
    "\n",
    "colorbar = heatmap_norm.collections[0].colorbar\n",
    "colorbar.set_ticks(np.linspace(0, 100, 6))\n",
    "\n",
    "plt.tight_layout()\n",
    "plt.show()\n"
   ]
  },
  {
   "cell_type": "markdown",
   "id": "f0f6dacd",
   "metadata": {},
   "source": [
    "### Inspect misclassified samples"
   ]
  },
  {
   "cell_type": "code",
   "execution_count": 20,
   "id": "70c4ab16",
   "metadata": {},
   "outputs": [
    {
     "name": "stdout",
     "output_type": "stream",
     "text": [
      "Total misclassifications: 6\n",
      "--------------------------------------------------------------------------------\n",
      "True label   : business\n",
      "Predicted    : politics\n",
      "Snippet      : Golden rule 'intact' says ex-aide Chancellor Gordon Brown will meet his golden economic rule \"with a margin to spare\", according to his former chief economic adviser. Formerly one of Mr Brown's closest Treasury aides, Ed Balls hinted at a Budget giveaway on 16 March. He said he hoped more would...\n",
      "--------------------------------------------------------------------------------\n",
      "True label   : politics\n",
      "Predicted    : tech\n",
      "Snippet      : UK firms 'embracing e-commerce' UK firms are embracing internet trading opportunities as never before, e-commerce minister Mike O'Brien says. A government-commissioned study ranked the UK third in its world index of use of information and communication technology (ICT). The report suggests 69% of UK firms are now using broadband and...\n",
      "--------------------------------------------------------------------------------\n",
      "True label   : business\n",
      "Predicted    : entertainment\n",
      "Snippet      : US bank boss hails 'genius' Smith US Federal Reserve chairman Alan Greenspan has given a speech at a Scottish church in honour of the pioneering economist, Adam Smith. He delivered the 14th Adam Smith Lecture in Kirkcaldy, Fife. The Adam Smith Lecture celebrates the author of 1776's Wealth of Nations,...\n",
      "--------------------------------------------------------------------------------\n",
      "True label   : business\n",
      "Predicted    : tech\n",
      "Snippet      : Making your office work for you Our mission to brighten up your working lives continues - and this time, we're taking a long hard look at your offices. Over the next few months, our panel of experts will be listening to your gripes about where you work, and suggesting ways...\n",
      "--------------------------------------------------------------------------------\n",
      "True label   : tech\n",
      "Predicted    : entertainment\n",
      "Snippet      : Musicians 'upbeat' about the net Musicians are embracing the internet as a way of reaching new fans and selling more music, a survey has found. The study by US researchers, Pew Internet, suggests musicians do not agree with the tactics adopted by the music industry against file-sharing. While most considered...\n"
     ]
    }
   ],
   "source": [
    "\n",
    "errors = []\n",
    "for text, truth, prediction in zip(X_test, y_test, y_pred):\n",
    "    if truth != prediction:\n",
    "        snippet = \" \".join(text.split()[:50])\n",
    "        errors.append((truth, prediction, snippet))\n",
    "\n",
    "print(f\"Total misclassifications: {len(errors)}\")\n",
    "for truth, prediction, snippet in errors[:5]:\n",
    "    print(\"-\" * 80)\n",
    "    print(f\"True label   : {truth}\")\n",
    "    print(f\"Predicted    : {prediction}\")\n",
    "    print(f\"Snippet      : {snippet}...\")\n"
   ]
  },
  {
   "cell_type": "markdown",
   "id": "68f5e3a4",
   "metadata": {},
   "source": [
    "### Most informative terms per class"
   ]
  },
  {
   "cell_type": "code",
   "execution_count": 21,
   "id": "03524bcc",
   "metadata": {},
   "outputs": [
    {
     "name": "stdout",
     "output_type": "stream",
     "text": [
      "     business: bank, firm, company, share, market, price, economic, economy, profit, business, airline, oil, investment, trade, u\n",
      "entertainment: film, show, star, singer, band, album, music, book, actor, ballet, song, ticket, festival, artist, award\n",
      "     politics: party, mp, labour, blair, mr, minister, tory, committee, lord, secretary, council, police, election, government, straw\n",
      "        sport: match, player, cup, coach, club, win, injury, champion, season, rugby, olympic, seed, athletics, side, liverpool\n",
      "         tech: technology, computer, game, software, digital, user, online, mobile, pc, phone, network, ink, site, apple, website\n"
     ]
    }
   ],
   "source": [
    "\n",
    "top_terms = get_top_features(model, top_n=15)\n",
    "for label, terms in top_terms.items():\n",
    "    joined = ', '.join(term for term, _ in terms)\n",
    "    print(f\"{label:>13}: {joined}\")\n"
   ]
  },
  {
   "cell_type": "markdown",
   "id": "3281fbb6",
   "metadata": {},
   "source": [
    "Visualize the relative weights for one class (business) as a bar chart."
   ]
  },
  {
   "cell_type": "code",
   "execution_count": 22,
   "id": "8b9176da",
   "metadata": {},
   "outputs": [
    {
     "data": {
      "image/png": "[encoded data removed]",
      "text/plain": [
       "<Figure size 1000x600 with 1 Axes>"
      ]
     },
     "metadata": {},
     "output_type": "display_data"
    }
   ],
   "source": [
    "\n",
    "terms, weights = zip(*top_terms[\"business\"][::-1])\n",
    "fig, ax = plt.subplots()\n",
    "ax.barh(terms, weights, color=\"#c55a11\")\n",
    "ax.set_xlabel(\"Linear SVM weight\")\n",
    "ax.set_title(\"Most informative terms for the business class\")\n",
    "plt.tight_layout()\n",
    "plt.show()\n"
   ]
  },
  {
   "cell_type": "markdown",
   "id": "100e11c9",
   "metadata": {},
   "source": [
    "## 7. Conclusion\n",
    "We reproduced the SVM lab exercise inside a single notebook with detailed commentary.\n",
    "The Linear SVM with TF-IDF features achieves high accuracy on the BBC dataset, and the visualizations help\n",
    "explain both the dataset characteristics and the model's decisions."
   ]
  }
 ],
 "metadata": {
  "kernelspec": {
   "display_name": ".venv",
   "language": "python",
   "name": "python3"
  },
  "language_info": {
   "codemirror_mode": {
    "name": "ipython",
    "version": 3
   },
   "file_extension": ".py",
   "mimetype": "text/x-python",
   "name": "python",
   "nbconvert_exporter": "python",
   "pygments_lexer": "ipython3",
   "version": "3.13.6"
  }
 },
 "nbformat": 4,
 "nbformat_minor": 5
}
